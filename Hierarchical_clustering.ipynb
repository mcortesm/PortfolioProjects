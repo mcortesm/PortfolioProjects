{
  "nbformat": 4,
  "nbformat_minor": 0,
  "metadata": {
    "colab": {
      "provenance": [],
      "authorship_tag": "ABX9TyMobtR6QmePXKxZ/u6vdx0J"
    },
    "kernelspec": {
      "name": "python3",
      "display_name": "Python 3"
    },
    "language_info": {
      "name": "python"
    }
  },
  "cells": [
    {
      "cell_type": "code",
      "source": [
        "#performing hierarchical clustering in data without context generated for a kaggle competition"
      ],
      "metadata": {
        "id": "g9sA4PKZxY8C"
      },
      "execution_count": null,
      "outputs": []
    },
    {
      "cell_type": "code",
      "execution_count": null,
      "metadata": {
        "id": "tXOanOUEYQkR"
      },
      "outputs": [],
      "source": [
        "import numpy as np\n",
        "import matplotlib.pyplot as plt\n",
        "import scipy.cluster.hierarchy as sch\n",
        "from sklearn.cluster import AgglomerativeClustering\n",
        "ChallengePath = \"/content/drive/MyDrive/Colab Notebooks/Projects/kggldata/mathclustering/\""
      ]
    },
    {
      "cell_type": "code",
      "source": [
        "# 3 differents datasets to find the number of cluster in each, we will pick just one\n",
        "\n",
        "cluster1 = np.load(ChallengePath + \"clusters1.npy\")\n",
        "#cluster2 = np.load(ChallengePath + \"clusters2.npy\")\n",
        "#cluster3 = np.load(ChallengePath + \"clusters3.npy\")\n",
        "cluster1"
      ],
      "metadata": {
        "id": "u5rxS_C5ZmCP",
        "colab": {
          "base_uri": "https://localhost:8080/"
        },
        "outputId": "d91ee184-1f03-430a-f6a8-48f4deccbeac"
      },
      "execution_count": null,
      "outputs": [
        {
          "output_type": "execute_result",
          "data": {
            "text/plain": [
              "array([[ 1.293253  ,  2.50703618,  0.72374839, ..., -4.01573459,\n",
              "         3.63209648, -2.51165777],\n",
              "       [ 2.76443824,  4.80056362,  1.84528482, ..., -5.07419144,\n",
              "         5.96977098,  1.86417119],\n",
              "       [ 5.58911576, -0.50441512, -6.13026097, ..., -3.67147061,\n",
              "         2.16056073, -4.11197752],\n",
              "       ...,\n",
              "       [ 2.95241695, -5.1033215 , -4.90443756, ..., -1.57996994,\n",
              "        -0.04159368, 12.51527714],\n",
              "       [ 2.3890822 , -4.81974756, -4.57453689, ..., -1.00663648,\n",
              "        -1.2301678 , 10.79505936],\n",
              "       [-3.63024395, -6.56041461, -5.29866337, ...,  4.80692795,\n",
              "         1.75657317, -2.3173035 ]])"
            ]
          },
          "metadata": {},
          "execution_count": 21
        }
      ]
    },
    {
      "cell_type": "code",
      "source": [
        "#cluster shape\n",
        "cluster1.shape"
      ],
      "metadata": {
        "colab": {
          "base_uri": "https://localhost:8080/"
        },
        "id": "z4wxB4luyP5y",
        "outputId": "f19be1cb-a427-42ea-8edc-3345ef6d7295"
      },
      "execution_count": null,
      "outputs": [
        {
          "output_type": "execute_result",
          "data": {
            "text/plain": [
              "(130, 20)"
            ]
          },
          "metadata": {},
          "execution_count": 22
        }
      ]
    },
    {
      "cell_type": "code",
      "source": [
        "#raw data plot\n",
        "plt.imshow(cluster1, cmap='hot', interpolation='nearest')"
      ],
      "metadata": {
        "colab": {
          "base_uri": "https://localhost:8080/",
          "height": 286
        },
        "id": "UXVFsbp1yPdy",
        "outputId": "c4c2adde-b2f6-4d96-fac7-23d5f129ac24"
      },
      "execution_count": null,
      "outputs": [
        {
          "output_type": "execute_result",
          "data": {
            "text/plain": [
              "<matplotlib.image.AxesImage at 0x7fdbb4521410>"
            ]
          },
          "metadata": {},
          "execution_count": 23
        },
        {
          "output_type": "display_data",
          "data": {
            "text/plain": [
              "<Figure size 432x288 with 1 Axes>"
            ],
            "image/png": "[encoded data removed]"
          },
          "metadata": {
            "needs_background": "light"
          }
        }
      ]
    },
    {
      "cell_type": "code",
      "source": [
        "#looking at the hierarchical clustering dendrogram of the data\n",
        "dendrogram = sch.dendrogram(sch.linkage(cluster1,method=\"ward\")) \n",
        "#there are 5 evident clusters "
      ],
      "metadata": {
        "id": "1OvB7UKak9Tg",
        "colab": {
          "base_uri": "https://localhost:8080/",
          "height": 265
        },
        "outputId": "e9b09eca-2f56-4089-ac06-6012da1f21a7"
      },
      "execution_count": null,
      "outputs": [
        {
          "output_type": "display_data",
          "data": {
            "text/plain": [
              "<Figure size 432x288 with 1 Axes>"
            ],
            "image/png": "[encoded data removed]"
          },
          "metadata": {
            "needs_background": "light"
          }
        }
      ]
    },
    {
      "cell_type": "code",
      "source": [
        "#perform the actual hierarchical clustering\n",
        "hc = AgglomerativeClustering(n_clusters=5,affinity=\"euclidean\",linkage=\"ward\")\n",
        "data_hc = hc.fit_predict(cluster1)\n",
        "data_hc"
      ],
      "metadata": {
        "id": "ojiv7qYgd15J",
        "colab": {
          "base_uri": "https://localhost:8080/"
        },
        "outputId": "3b1a6220-f6fc-47dc-e5ae-de51302a125e"
      },
      "execution_count": null,
      "outputs": [
        {
          "output_type": "execute_result",
          "data": {
            "text/plain": [
              "array([4, 0, 1, 0, 1, 2, 1, 0, 0, 0, 0, 0, 0, 4, 0, 0, 4, 1, 3, 1, 1, 4,\n",
              "       1, 4, 1, 2, 4, 4, 3, 2, 0, 2, 3, 0, 0, 3, 0, 2, 0, 0, 1, 4, 0, 1,\n",
              "       4, 3, 0, 4, 4, 4, 0, 2, 3, 4, 0, 2, 2, 0, 0, 4, 2, 0, 3, 0, 0, 0,\n",
              "       4, 1, 4, 1, 3, 3, 1, 4, 2, 2, 0, 0, 4, 1, 0, 1, 1, 4, 4, 3, 0, 1,\n",
              "       4, 1, 3, 3, 0, 1, 0, 0, 4, 0, 0, 0, 3, 4, 0, 0, 4, 2, 3, 4, 0, 1,\n",
              "       3, 1, 4, 2, 0, 4, 3, 4, 2, 2, 3, 2, 4, 3, 4, 3, 1, 2, 2, 3])"
            ]
          },
          "metadata": {},
          "execution_count": 5
        }
      ]
    },
    {
      "cell_type": "code",
      "source": [
        "#split data into 5 data clusters\n",
        "\n",
        "separate_cluster0 = cluster1[data_hc == 0] #data points: 40\n",
        "separate_cluster1 = cluster1[data_hc == 1] #data points: 22\n",
        "separate_cluster2 = cluster1[data_hc == 2] #data points: 18\n",
        "separate_cluster3 = cluster1[data_hc == 3] #data points: 20\n",
        "separate_cluster4 = cluster1[data_hc == 4] #data points: 30"
      ],
      "metadata": {
        "id": "B9sWNA7Ee9R1"
      },
      "execution_count": null,
      "outputs": []
    },
    {
      "cell_type": "code",
      "source": [
        "#now we have a much more readable data\n",
        "plt.imshow(separate_cluster0, cmap='hot', interpolation='nearest')"
      ],
      "metadata": {
        "colab": {
          "base_uri": "https://localhost:8080/",
          "height": 284
        },
        "id": "OEazb2xxhidt",
        "outputId": "c8cfe05e-1c35-4a5c-cb49-a300b0dd6dbb"
      },
      "execution_count": null,
      "outputs": [
        {
          "output_type": "execute_result",
          "data": {
            "text/plain": [
              "<matplotlib.image.AxesImage at 0x7fdbb0a1f690>"
            ]
          },
          "metadata": {},
          "execution_count": 26
        },
        {
          "output_type": "display_data",
          "data": {
            "text/plain": [
              "<Figure size 432x288 with 1 Axes>"
            ],
            "image/png": "[encoded data removed]"
          },
          "metadata": {
            "needs_background": "light"
          }
        }
      ]
    }
  ]
}